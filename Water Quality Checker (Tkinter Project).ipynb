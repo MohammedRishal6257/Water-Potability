{
 "cells": [
  {
   "cell_type": "code",
   "execution_count": 6,
   "id": "9383431e-df8f-4338-8fda-a0e719b8bc62",
   "metadata": {},
   "outputs": [],
   "source": [
    "# Import nessesary Libraries \n",
    "import tkinter as tk\n",
    "from tkinter import messagebox\n",
    "from tkinter import PhotoImage,Label"
   ]
  },
  {
   "cell_type": "code",
   "execution_count": 8,
   "id": "40017d46-0320-44a0-850a-2ef592dac5d3",
   "metadata": {},
   "outputs": [],
   "source": [
    "# Define the function to check potability and display detailed results\n",
    "def check_potability():\n",
    "    try:\n",
    "# Retrieve and convert input values\n",
    "        pH = float(entry_ph.get())\n",
    "        hardness = float(entry_hardness.get())\n",
    "        tds = float(entry_tds.get())\n",
    "        chloramines = float(entry_chloramines.get())\n",
    "        sulfate = float(entry_sulfate.get())\n",
    "        conductivity = float(entry_conductivity.get())\n",
    "        organic_carbon = float(entry_organic_carbon.get())\n",
    "        trihalomethanes = float(entry_trihalomethanes.get())\n",
    "        turbidity = float(entry_turbidity.get())\n",
    "\n",
    "        results = []\n",
    "        is_potable = True  # Assume water is potable \n",
    "\n",
    "# Check pH\n",
    "        if not (6.5 <= pH <= 8.5):\n",
    "            results.append(\"pH value out of range (6.5 - 8.5).\")\n",
    "            is_potable = False\n",
    "        else:\n",
    "            results.append(\"pH value is within the safe range.\")\n",
    "        \n",
    "# Check Hardness\n",
    "        if hardness < 0 or hardness > 100:  # Adjusted range\n",
    "            results.append(\"Hardness out of range (0 - 100).\")\n",
    "            is_potable = False\n",
    "        else:\n",
    "            results.append(\"Hardness is within the safe range.\")\n",
    "        \n",
    "# Check TDS\n",
    "        if not (0 <= tds <= 1000):\n",
    "            results.append(\"TDS value out of range (0 - 1000 mg/L).\")\n",
    "            is_potable = False\n",
    "        else:\n",
    "            results.append(\"TDS is within the safe range.\")\n",
    "        \n",
    "# Check Chloramines\n",
    "        if chloramines > 4:\n",
    "            results.append(\"Chloramines level too high (> 4 mg/L).\")\n",
    "            is_potable = False\n",
    "        else:\n",
    "            results.append(\"Chloramines level is within the safe range.\")\n",
    "        \n",
    "# Check Sulfate\n",
    "        if sulfate > 1000:\n",
    "            results.append(\"Sulfate level too high (> 1000 mg/L).\")\n",
    "            is_potable = False\n",
    "        else:\n",
    "            results.append(\"Sulfate level is within the safe range.\")\n",
    "        \n",
    "# Check Conductivity\n",
    "        if conductivity > 400:\n",
    "            results.append(\"Conductivity too high (> 400 μS/cm).\")\n",
    "            is_potable = False\n",
    "        else:\n",
    "            results.append(\"Conductivity is within the safe range.\")\n",
    "        \n",
    "# Check Organic Carbon\n",
    "        if organic_carbon > 2:\n",
    "            results.append(\"Organic Carbon level too high (> 2 mg/L).\")\n",
    "            is_potable = False\n",
    "        else:\n",
    "            results.append(\"Organic Carbon level is within the safe range.\")\n",
    "        \n",
    "# Check Trihalomethanes\n",
    "        if trihalomethanes > 80:\n",
    "            results.append(\"Trihalomethanes level too high (> 80 ppm).\")\n",
    "            is_potable = False\n",
    "        else:\n",
    "            results.append(\"Trihalomethanes level is within the safe range.\")\n",
    "        \n",
    "# Check Turbidity\n",
    "        if turbidity > 5:\n",
    "            results.append(\"Turbidity too high (> 5 NTU).\")\n",
    "            is_potable = False\n",
    "        else:\n",
    "            results.append(\"Turbidity is within the safe range.\")\n",
    "        \n",
    "        # Summarize the result\n",
    "        if is_potable:\n",
    "            results.append(\"\\nOverall: Water is potable.\")\n",
    "        else:\n",
    "            results.append(\"\\nOverall: Water is not potable.\")\n",
    "        \n",
    "        # Display all results\n",
    "        messagebox.showinfo(\"Water Quality Results\", \"\\n\".join(results))\n",
    "    \n",
    "    except ValueError:\n",
    "        messagebox.showerror(\"Input Error\", \"Please enter valid numerical values.\")"
   ]
  },
  {
   "cell_type": "code",
   "execution_count": 27,
   "id": "cadba867-1814-4e46-aa3f-a6c112e0a1bd",
   "metadata": {},
   "outputs": [
    {
     "data": {
      "text/plain": [
       "''"
      ]
     },
     "execution_count": 27,
     "metadata": {},
     "output_type": "execute_result"
    }
   ],
   "source": [
    "# Create the main window\n",
    "window = tk.Tk()\n",
    "window.title(\"Water Potability Checker\")\n",
    "window.geometry(\"380x530\")"
   ]
  },
  {
   "cell_type": "code",
   "execution_count": 29,
   "id": "3a7651ca-e3a2-4b46-99c9-83b0f5e83961",
   "metadata": {},
   "outputs": [],
   "source": [
    "# Add Background Image\n",
    "bg = PhotoImage(file = \"water02.png\") \n",
    "\n",
    "# Show image using label \n",
    "label1 = Label( window, image = bg,width=380, height=600) \n",
    "label1.place(x = 0, y = 0) "
   ]
  },
  {
   "cell_type": "code",
   "execution_count": 31,
   "id": "bb32d2fd-62d1-43ad-92c0-91b671bc8b07",
   "metadata": {},
   "outputs": [],
   "source": [
    "# Information about WHO standards\n",
    "info_text = (\n",
    "    \"Standards for Good Water Quality:\\n\\n\"\n",
    "    \"pH value: 6.5 - 8.5\\n\"\n",
    "    \"Hardness: 0 - 100\\n\"\n",
    "    \"TDS: 0 - 1000 mg/L\\n\"\n",
    "    \"Chloramines: 0 - 4 mg/L\\n\"\n",
    "    \"Sulfate: 0 - 1000 mg/L\\n\"\n",
    "    \"Conductivity: 0 - 400 μS/cm\\n\"\n",
    "    \"Organic Carbon: ≤ 2 mg/L\\n\"\n",
    "    \"Trihalomethanes: ≤ 80 ppm\\n\"\n",
    "    \"Turbidity: ≤ 5 NTU\\n\"\n",
    ")"
   ]
  },
  {
   "cell_type": "code",
   "execution_count": 33,
   "id": "e501e267-93a7-4a9c-ac0c-fd865fbe64bc",
   "metadata": {},
   "outputs": [],
   "source": [
    "# Create and place the text widget for WHO standards\n",
    "info_text_widget = tk.Text(window, height=11, width=50, wrap=tk.WORD, font=(\"Helvetica\", 10, \"bold\"))\n",
    "info_text_widget.grid(row=0, column=0, columnspan=2, padx=10, pady=10)\n",
    "info_text_widget.insert(tk.END, info_text)\n",
    "info_text_widget.config(state=tk.DISABLED)  # Make the text widget read-only"
   ]
  },
  {
   "cell_type": "code",
   "execution_count": 35,
   "id": "484ab47d-7746-4858-bcd0-3ddb9cd8caab",
   "metadata": {},
   "outputs": [],
   "source": [
    "# Create and place the labels and entries for each parameter\n",
    "labels_entries = [\n",
    "    (\"pH value:\", \"entry_ph\"),\n",
    "    (\"Hardness:\", \"entry_hardness\"),\n",
    "    (\"TDS (mg/L):\", \"entry_tds\"),\n",
    "    (\"Chloramines (mg/L):\", \"entry_chloramines\"),\n",
    "    (\"Sulfate (mg/L):\", \"entry_sulfate\"),\n",
    "    (\"Conductivity (μS/cm):\", \"entry_conductivity\"),\n",
    "    (\"Organic Carbon (mg/L):\", \"entry_organic_carbon\"),\n",
    "    (\"Trihalomethanes (ppm):\", \"entry_trihalomethanes\"),\n",
    "    (\"Turbidity (NTU):\", \"entry_turbidity\")\n",
    "]"
   ]
  },
  {
   "cell_type": "code",
   "execution_count": 37,
   "id": "c05e3b36-b47d-40f2-bcef-d36f96558795",
   "metadata": {},
   "outputs": [],
   "source": [
    "for idx, (label_text, entry_name) in enumerate(labels_entries):\n",
    "    tk.Label(window, text=label_text).grid(row=idx+1, column=0, padx=10, pady=5)\n",
    "    entry = tk.Entry(window)\n",
    "    entry.grid(row=idx+1, column=1, padx=10, pady=5)\n",
    "    globals()[entry_name] = entry  # Assign entry to a variable with the name `entry_name`"
   ]
  },
  {
   "cell_type": "code",
   "execution_count": 39,
   "id": "d74e3a13-deb2-4e4e-b07b-97ec26ae38e8",
   "metadata": {},
   "outputs": [],
   "source": [
    "# Button to check potability\n",
    "check_button = tk.Button(window, text=\"Check Potability\", command=check_potability)\n",
    "check_button.grid(row=len(labels_entries)+1, column=0, columnspan=2, padx=10, pady=20)"
   ]
  },
  {
   "cell_type": "code",
   "execution_count": 41,
   "id": "7fcb5d24-5456-4bfa-a802-d246e719d2f3",
   "metadata": {},
   "outputs": [],
   "source": [
    "# Run the application\n",
    "window.mainloop()"
   ]
  },
  {
   "cell_type": "code",
   "execution_count": null,
   "id": "070174c5-b753-4319-9f2d-e84992e041f7",
   "metadata": {},
   "outputs": [],
   "source": []
  }
 ],
 "metadata": {
  "kernelspec": {
   "display_name": "Python 3 (ipykernel)",
   "language": "python",
   "name": "python3"
  },
  "language_info": {
   "codemirror_mode": {
    "name": "ipython",
    "version": 3
   },
   "file_extension": ".py",
   "mimetype": "text/x-python",
   "name": "python",
   "nbconvert_exporter": "python",
   "pygments_lexer": "ipython3",
   "version": "3.12.4"
  }
 },
 "nbformat": 4,
 "nbformat_minor": 5
}
